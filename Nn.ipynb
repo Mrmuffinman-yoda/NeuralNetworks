{
 "cells": [
  {
   "cell_type": "code",
   "execution_count": 1,
   "metadata": {},
   "outputs": [
    {
     "data": {
      "text/plain": [
       "device(type='cuda', index=0)"
      ]
     },
     "execution_count": 1,
     "metadata": {},
     "output_type": "execute_result"
    }
   ],
   "source": [
    "#Coursework\n",
    "#Here we will import things such as my_utils and torch\n",
    "import my_utils as mu\n",
    "import torch\n",
    "import torch.nn as nn\n",
    "import time \n",
    "# Just used to check if the code is running on the GPU or not\n",
    "torch.cuda.is_available()\n",
    "mu.try_gpu()"
   ]
  },
  {
   "cell_type": "code",
   "execution_count": 10,
   "metadata": {},
   "outputs": [
    {
     "data": {
      "image/svg+xml": "<?xml version=\"1.0\" encoding=\"utf-8\" standalone=\"no\"?>\n<!DOCTYPE svg PUBLIC \"-//W3C//DTD SVG 1.1//EN\"\n  \"http://www.w3.org/Graphics/SVG/1.1/DTD/svg11.dtd\">\n<svg xmlns:xlink=\"http://www.w3.org/1999/xlink\" width=\"251.565pt\" height=\"248.518125pt\" viewBox=\"0 0 251.565 248.518125\" xmlns=\"http://www.w3.org/2000/svg\" version=\"1.1\">\n <metadata>\n  <rdf:RDF xmlns:dc=\"http://purl.org/dc/elements/1.1/\" xmlns:cc=\"http://creativecommons.org/ns#\" xmlns:rdf=\"http://www.w3.org/1999/02/22-rdf-syntax-ns#\">\n   <cc:Work>\n    <dc:type rdf:resource=\"http://purl.org/dc/dcmitype/StillImage\"/>\n    <dc:date>2022-10-05T18:52:47.831319</dc:date>\n    <dc:format>image/svg+xml</dc:format>\n    <dc:creator>\n     <cc:Agent>\n      <dc:title>Matplotlib v3.5.2, https://matplotlib.org/</dc:title>\n     </cc:Agent>\n    </dc:creator>\n   </cc:Work>\n  </rdf:RDF>\n </metadata>\n <defs>\n  <style type=\"text/css\">*{stroke-linejoin: round; stroke-linecap: butt}</style>\n </defs>\n <g id=\"figure_1\">\n  <g id=\"patch_1\">\n   <path d=\"M 0 248.518125 \nL 251.565 248.518125 \nL 251.565 0 \nL 0 0 \nL 0 248.518125 \nz\n\" style=\"fill: none\"/>\n  </g>\n  <g id=\"axes_1\">\n   <g id=\"patch_2\">\n    <path d=\"M 26.925 224.64 \nL 244.365 224.64 \nL 244.365 7.2 \nL 26.925 7.2 \nz\n\" style=\"fill: #ffffff\"/>\n   </g>\n   <g clip-path=\"url(#pfccdc2cf69)\">\n    <image xlink:href=\"data:image/png;base64,\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\" id=\"image060a6deefc\" transform=\"scale(1 -1)translate(0 -218)\" x=\"26.925\" y=\"-6.64\" width=\"218\" height=\"218\"/>\n   </g>\n   <g id=\"matplotlib.axis_1\">\n    <g id=\"xtick_1\">\n     <g id=\"line2d_1\">\n      <defs>\n       <path id=\"me004a8f3ad\" d=\"M 0 0 \nL 0 3.5 \n\" style=\"stroke: #000000; stroke-width: 0.8\"/>\n      </defs>\n      <g>\n       <use xlink:href=\"#me004a8f3ad\" x=\"30.807857\" y=\"224.64\" style=\"stroke: #000000; stroke-width: 0.8\"/>\n      </g>\n     </g>\n     <g id=\"text_1\">\n      <!-- 0 -->\n      <g transform=\"translate(27.626607 239.238437)scale(0.1 -0.1)\">\n       <defs>\n        <path id=\"DejaVuSans-30\" d=\"M 2034 4250 \nQ 1547 4250 1301 3770 \nQ 1056 3291 1056 2328 \nQ 1056 1369 1301 889 \nQ 1547 409 2034 409 \nQ 2525 409 2770 889 \nQ 3016 1369 3016 2328 \nQ 3016 3291 2770 3770 \nQ 2525 4250 2034 4250 \nz\nM 2034 4750 \nQ 2819 4750 3233 4129 \nQ 3647 3509 3647 2328 \nQ 3647 1150 3233 529 \nQ 2819 -91 2034 -91 \nQ 1250 -91 836 529 \nQ 422 1150 422 2328 \nQ 422 3509 836 4129 \nQ 1250 4750 2034 4750 \nz\n\" transform=\"scale(0.015625)\"/>\n       </defs>\n       <use xlink:href=\"#DejaVuSans-30\"/>\n      </g>\n     </g>\n    </g>\n    <g id=\"xtick_2\">\n     <g id=\"line2d_2\">\n      <g>\n       <use xlink:href=\"#me004a8f3ad\" x=\"69.636429\" y=\"224.64\" style=\"stroke: #000000; stroke-width: 0.8\"/>\n      </g>\n     </g>\n     <g id=\"text_2\">\n      <!-- 5 -->\n      <g transform=\"translate(66.455179 239.238437)scale(0.1 -0.1)\">\n       <defs>\n        <path id=\"DejaVuSans-35\" d=\"M 691 4666 \nL 3169 4666 \nL 3169 4134 \nL 1269 4134 \nL 1269 2991 \nQ 1406 3038 1543 3061 \nQ 1681 3084 1819 3084 \nQ 2600 3084 3056 2656 \nQ 3513 2228 3513 1497 \nQ 3513 744 3044 326 \nQ 2575 -91 1722 -91 \nQ 1428 -91 1123 -41 \nQ 819 9 494 109 \nL 494 744 \nQ 775 591 1075 516 \nQ 1375 441 1709 441 \nQ 2250 441 2565 725 \nQ 2881 1009 2881 1497 \nQ 2881 1984 2565 2268 \nQ 2250 2553 1709 2553 \nQ 1456 2553 1204 2497 \nQ 953 2441 691 2322 \nL 691 4666 \nz\n\" transform=\"scale(0.015625)\"/>\n       </defs>\n       <use xlink:href=\"#DejaVuSans-35\"/>\n      </g>\n     </g>\n    </g>\n    <g id=\"xtick_3\">\n     <g id=\"line2d_3\">\n      <g>\n       <use xlink:href=\"#me004a8f3ad\" x=\"108.465\" y=\"224.64\" style=\"stroke: #000000; stroke-width: 0.8\"/>\n      </g>\n     </g>\n     <g id=\"text_3\">\n      <!-- 10 -->\n      <g transform=\"translate(102.1025 239.238437)scale(0.1 -0.1)\">\n       <defs>\n        <path id=\"DejaVuSans-31\" d=\"M 794 531 \nL 1825 531 \nL 1825 4091 \nL 703 3866 \nL 703 4441 \nL 1819 4666 \nL 2450 4666 \nL 2450 531 \nL 3481 531 \nL 3481 0 \nL 794 0 \nL 794 531 \nz\n\" transform=\"scale(0.015625)\"/>\n       </defs>\n       <use xlink:href=\"#DejaVuSans-31\"/>\n       <use xlink:href=\"#DejaVuSans-30\" x=\"63.623047\"/>\n      </g>\n     </g>\n    </g>\n    <g id=\"xtick_4\">\n     <g id=\"line2d_4\">\n      <g>\n       <use xlink:href=\"#me004a8f3ad\" x=\"147.293571\" y=\"224.64\" style=\"stroke: #000000; stroke-width: 0.8\"/>\n      </g>\n     </g>\n     <g id=\"text_4\">\n      <!-- 15 -->\n      <g transform=\"translate(140.931071 239.238437)scale(0.1 -0.1)\">\n       <use xlink:href=\"#DejaVuSans-31\"/>\n       <use xlink:href=\"#DejaVuSans-35\" x=\"63.623047\"/>\n      </g>\n     </g>\n    </g>\n    <g id=\"xtick_5\">\n     <g id=\"line2d_5\">\n      <g>\n       <use xlink:href=\"#me004a8f3ad\" x=\"186.122143\" y=\"224.64\" style=\"stroke: #000000; stroke-width: 0.8\"/>\n      </g>\n     </g>\n     <g id=\"text_5\">\n      <!-- 20 -->\n      <g transform=\"translate(179.759643 239.238437)scale(0.1 -0.1)\">\n       <defs>\n        <path id=\"DejaVuSans-32\" d=\"M 1228 531 \nL 3431 531 \nL 3431 0 \nL 469 0 \nL 469 531 \nQ 828 903 1448 1529 \nQ 2069 2156 2228 2338 \nQ 2531 2678 2651 2914 \nQ 2772 3150 2772 3378 \nQ 2772 3750 2511 3984 \nQ 2250 4219 1831 4219 \nQ 1534 4219 1204 4116 \nQ 875 4013 500 3803 \nL 500 4441 \nQ 881 4594 1212 4672 \nQ 1544 4750 1819 4750 \nQ 2544 4750 2975 4387 \nQ 3406 4025 3406 3419 \nQ 3406 3131 3298 2873 \nQ 3191 2616 2906 2266 \nQ 2828 2175 2409 1742 \nQ 1991 1309 1228 531 \nz\n\" transform=\"scale(0.015625)\"/>\n       </defs>\n       <use xlink:href=\"#DejaVuSans-32\"/>\n       <use xlink:href=\"#DejaVuSans-30\" x=\"63.623047\"/>\n      </g>\n     </g>\n    </g>\n    <g id=\"xtick_6\">\n     <g id=\"line2d_6\">\n      <g>\n       <use xlink:href=\"#me004a8f3ad\" x=\"224.950714\" y=\"224.64\" style=\"stroke: #000000; stroke-width: 0.8\"/>\n      </g>\n     </g>\n     <g id=\"text_6\">\n      <!-- 25 -->\n      <g transform=\"translate(218.588214 239.238437)scale(0.1 -0.1)\">\n       <use xlink:href=\"#DejaVuSans-32\"/>\n       <use xlink:href=\"#DejaVuSans-35\" x=\"63.623047\"/>\n      </g>\n     </g>\n    </g>\n   </g>\n   <g id=\"matplotlib.axis_2\">\n    <g id=\"ytick_1\">\n     <g id=\"line2d_7\">\n      <defs>\n       <path id=\"mf22082e4aa\" d=\"M 0 0 \nL -3.5 0 \n\" style=\"stroke: #000000; stroke-width: 0.8\"/>\n      </defs>\n      <g>\n       <use xlink:href=\"#mf22082e4aa\" x=\"26.925\" y=\"11.082857\" style=\"stroke: #000000; stroke-width: 0.8\"/>\n      </g>\n     </g>\n     <g id=\"text_7\">\n      <!-- 0 -->\n      <g transform=\"translate(13.5625 14.882076)scale(0.1 -0.1)\">\n       <use xlink:href=\"#DejaVuSans-30\"/>\n      </g>\n     </g>\n    </g>\n    <g id=\"ytick_2\">\n     <g id=\"line2d_8\">\n      <g>\n       <use xlink:href=\"#mf22082e4aa\" x=\"26.925\" y=\"49.911429\" style=\"stroke: #000000; stroke-width: 0.8\"/>\n      </g>\n     </g>\n     <g id=\"text_8\">\n      <!-- 5 -->\n      <g transform=\"translate(13.5625 53.710647)scale(0.1 -0.1)\">\n       <use xlink:href=\"#DejaVuSans-35\"/>\n      </g>\n     </g>\n    </g>\n    <g id=\"ytick_3\">\n     <g id=\"line2d_9\">\n      <g>\n       <use xlink:href=\"#mf22082e4aa\" x=\"26.925\" y=\"88.74\" style=\"stroke: #000000; stroke-width: 0.8\"/>\n      </g>\n     </g>\n     <g id=\"text_9\">\n      <!-- 10 -->\n      <g transform=\"translate(7.2 92.539219)scale(0.1 -0.1)\">\n       <use xlink:href=\"#DejaVuSans-31\"/>\n       <use xlink:href=\"#DejaVuSans-30\" x=\"63.623047\"/>\n      </g>\n     </g>\n    </g>\n    <g id=\"ytick_4\">\n     <g id=\"line2d_10\">\n      <g>\n       <use xlink:href=\"#mf22082e4aa\" x=\"26.925\" y=\"127.568571\" style=\"stroke: #000000; stroke-width: 0.8\"/>\n      </g>\n     </g>\n     <g id=\"text_10\">\n      <!-- 15 -->\n      <g transform=\"translate(7.2 131.36779)scale(0.1 -0.1)\">\n       <use xlink:href=\"#DejaVuSans-31\"/>\n       <use xlink:href=\"#DejaVuSans-35\" x=\"63.623047\"/>\n      </g>\n     </g>\n    </g>\n    <g id=\"ytick_5\">\n     <g id=\"line2d_11\">\n      <g>\n       <use xlink:href=\"#mf22082e4aa\" x=\"26.925\" y=\"166.397143\" style=\"stroke: #000000; stroke-width: 0.8\"/>\n      </g>\n     </g>\n     <g id=\"text_11\">\n      <!-- 20 -->\n      <g transform=\"translate(7.2 170.196362)scale(0.1 -0.1)\">\n       <use xlink:href=\"#DejaVuSans-32\"/>\n       <use xlink:href=\"#DejaVuSans-30\" x=\"63.623047\"/>\n      </g>\n     </g>\n    </g>\n    <g id=\"ytick_6\">\n     <g id=\"line2d_12\">\n      <g>\n       <use xlink:href=\"#mf22082e4aa\" x=\"26.925\" y=\"205.225714\" style=\"stroke: #000000; stroke-width: 0.8\"/>\n      </g>\n     </g>\n     <g id=\"text_12\">\n      <!-- 25 -->\n      <g transform=\"translate(7.2 209.024933)scale(0.1 -0.1)\">\n       <use xlink:href=\"#DejaVuSans-32\"/>\n       <use xlink:href=\"#DejaVuSans-35\" x=\"63.623047\"/>\n      </g>\n     </g>\n    </g>\n   </g>\n   <g id=\"patch_3\">\n    <path d=\"M 26.925 224.64 \nL 26.925 7.2 \n\" style=\"fill: none; stroke: #000000; stroke-width: 0.8; stroke-linejoin: miter; stroke-linecap: square\"/>\n   </g>\n   <g id=\"patch_4\">\n    <path d=\"M 244.365 224.64 \nL 244.365 7.2 \n\" style=\"fill: none; stroke: #000000; stroke-width: 0.8; stroke-linejoin: miter; stroke-linecap: square\"/>\n   </g>\n   <g id=\"patch_5\">\n    <path d=\"M 26.925 224.64 \nL 244.365 224.64 \n\" style=\"fill: none; stroke: #000000; stroke-width: 0.8; stroke-linejoin: miter; stroke-linecap: square\"/>\n   </g>\n   <g id=\"patch_6\">\n    <path d=\"M 26.925 7.2 \nL 244.365 7.2 \n\" style=\"fill: none; stroke: #000000; stroke-width: 0.8; stroke-linejoin: miter; stroke-linecap: square\"/>\n   </g>\n  </g>\n </g>\n <defs>\n  <clipPath id=\"pfccdc2cf69\">\n   <rect x=\"26.925\" y=\"7.2\" width=\"217.44\" height=\"217.44\"/>\n  </clipPath>\n </defs>\n</svg>\n",
      "text/plain": [
       "<Figure size 432x288 with 1 Axes>"
      ]
     },
     "metadata": {
      "needs_background": "light"
     },
     "output_type": "display_data"
    }
   ],
   "source": [
    "import matplotlib.pyplot as plt\n",
    "#We will set the batch_size here to be 64\n",
    "batch_size = 64\n",
    "#This is where we load the data from the mnist dataset\n",
    "train_dataset, test_dataset =mu.load_data_fashion_mnist(batch_size)\n",
    "#This is to see what one of the images look like from the dataset\n",
    "for data in train_dataset:  \n",
    "    plt.imshow(data[0][0].view(28,28),cmap='Greys') #plot the image\n",
    "    plt.show()\n",
    "    break"
   ]
  },
  {
   "cell_type": "code",
   "execution_count": 11,
   "metadata": {},
   "outputs": [],
   "source": [
    "class Net(torch.nn.Module):\n",
    "    def __init__(self, num_inputs, num_outputs):\n",
    "        super(Net, self).__init__()\n",
    "        self.num_inputs = num_inputs\n",
    "        self.num_outputs = num_outputs\n",
    "        self.relu = nn.ReLU(inplace =True) \n",
    "        self.Linear_1 = nn.Linear( 196 ,784 )\n",
    "        self.Linear_2_hidden = nn.Linear(784, 200)\n",
    "        self.Linear_3_hidden = nn.Linear(4 , 64)\n",
    "        self.Linear_4_hidden = nn.Linear(64, 10)        \n",
    "    def forward(self, x):\n",
    "        x = nn.functional.unfold(x,(14,14),stride =14)\n",
    "\n",
    "        #This is the first mlp where we do O1 =g(xTw1)W2\n",
    "        #First we transpose x so that it is in the correct shape for the linear layer\n",
    "        x = torch.transpose(x , 1 , 2)\n",
    "        #Then we do the linear layer\n",
    "        x = self.Linear_1(x)\n",
    "        #Then we do the relu\n",
    "        x = self.relu(x)\n",
    "        #Then we do the linear layer\n",
    "        x = self.Linear_2_hidden(x)\n",
    "        # dropout layer\n",
    "        #torch.nn.Dropout(p = 0.1 ,  inplace = True)\n",
    "        #step 2\n",
    "        #This is the second mlp where we do O2 =g(01w3)W4\n",
    "        x = torch.transpose(x ,1 ,2)\n",
    "        \n",
    "        #second mlp\n",
    "        #Then we do the linear layer\n",
    "        x = self.Linear_3_hidden(x)\n",
    "        #Then we do the relu\n",
    "        x = self.relu(x)\n",
    "        #Then we do the linear layer\n",
    "        x = self.Linear_4_hidden(x)\n",
    "        #Then we do the softmax for output\n",
    "        output = x\n",
    "        return output.mean(axis=1)\n",
    "#This is the number of inputs and outputs for the network \n",
    "num_inputs, num_outputs = 784, 10\n",
    "# Initialize the network without cuda \n",
    "net = Net(num_inputs, num_outputs)\n",
    "# Initialize the network for cuda if it is available\n",
    "netWcuda= Net(num_inputs=num_inputs, num_outputs=num_outputs)"
   ]
  },
  {
   "cell_type": "code",
   "execution_count": 12,
   "metadata": {},
   "outputs": [],
   "source": [
    "# Model instantiation and initialisation \n",
    "def init_weights(m):\n",
    "    if type(m) == nn.Linear: # by checking type we can init different layers in different ways\n",
    "        # Initialize the weights of the linear layer\n",
    "        torch.nn.init.normal_(m.weight, std=0.01)\n",
    "        # Initialize the bias of the linear layer\n",
    "        torch.nn.init.zeros_(m.bias)"
   ]
  },
  {
   "cell_type": "markdown",
   "metadata": {},
   "source": [
    "Loss and optimiser  "
   ]
  },
  {
   "cell_type": "code",
   "execution_count": 14,
   "metadata": {},
   "outputs": [],
   "source": [
    "# create your loss here. Use Cross Entropy loss:\n",
    "loss = nn.CrossEntropyLoss()\n",
    "# create your optimizer here. Use SGD with weight decay:\n",
    "optimizer = torch.optim.SGD(net.parameters(), lr=0.5,weight_decay=0.09)"
   ]
  },
  {
   "cell_type": "code",
   "execution_count": 16,
   "metadata": {},
   "outputs": [
    {
     "name": "stdout",
     "output_type": "stream",
     "text": [
      "loss 0.406, train acc 0.855, test acc 0.841\n",
      "19489.6 examples/sec on cuda:0\n",
      "Time taken: 130.53992549999384\n"
     ]
    },
    {
     "data": {
      "text/plain": [
       "0.8412"
      ]
     },
     "execution_count": 16,
     "metadata": {},
     "output_type": "execute_result"
    },
    {
     "data": {
      "image/svg+xml": "<?xml version=\"1.0\" encoding=\"utf-8\" standalone=\"no\"?>\n<!DOCTYPE svg PUBLIC \"-//W3C//DTD SVG 1.1//EN\"\n  \"http://www.w3.org/Graphics/SVG/1.1/DTD/svg11.dtd\">\n<svg xmlns:xlink=\"http://www.w3.org/1999/xlink\" width=\"243.735938pt\" height=\"180.65625pt\" viewBox=\"0 0 243.735938 180.65625\" xmlns=\"http://www.w3.org/2000/svg\" version=\"1.1\">\n <metadata>\n  <rdf:RDF xmlns:dc=\"http://purl.org/dc/elements/1.1/\" xmlns:cc=\"http://creativecommons.org/ns#\" xmlns:rdf=\"http://www.w3.org/1999/02/22-rdf-syntax-ns#\">\n   <cc:Work>\n    <dc:type rdf:resource=\"http://purl.org/dc/dcmitype/StillImage\"/>\n    <dc:date>2022-10-05T18:55:31.583884</dc:date>\n    <dc:format>image/svg+xml</dc:format>\n    <dc:creator>\n     <cc:Agent>\n      <dc:title>Matplotlib v3.5.2, https://matplotlib.org/</dc:title>\n     </cc:Agent>\n    </dc:creator>\n   </cc:Work>\n  </rdf:RDF>\n </metadata>\n <defs>\n  <style type=\"text/css\">*{stroke-linejoin: round; stroke-linecap: butt}</style>\n </defs>\n <g id=\"figure_1\">\n  <g id=\"patch_1\">\n   <path d=\"M 0 180.65625 \nL 243.735938 180.65625 \nL 243.735938 0 \nL 0 0 \nL 0 180.65625 \nz\n\" style=\"fill: none\"/>\n  </g>\n  <g id=\"axes_1\">\n   <g id=\"patch_2\">\n    <path d=\"M 30.103125 143.1 \nL 225.403125 143.1 \nL 225.403125 7.2 \nL 30.103125 7.2 \nz\n\" style=\"fill: #ffffff\"/>\n   </g>\n   <g id=\"matplotlib.axis_1\">\n    <g id=\"xtick_1\">\n     <g id=\"line2d_1\">\n      <path d=\"M 30.103125 143.1 \nL 30.103125 7.2 \n\" clip-path=\"url(#p1a480e7345)\" style=\"fill: none; stroke: #b0b0b0; stroke-width: 0.8; stroke-linecap: square\"/>\n     </g>\n     <g id=\"line2d_2\">\n      <defs>\n       <path id=\"mb91c18b85a\" d=\"M 0 0 \nL 0 3.5 \n\" style=\"stroke: #000000; stroke-width: 0.8\"/>\n      </defs>\n      <g>\n       <use xlink:href=\"#mb91c18b85a\" x=\"30.103125\" y=\"143.1\" style=\"stroke: #000000; stroke-width: 0.8\"/>\n      </g>\n     </g>\n     <g id=\"text_1\">\n      <!-- 0.0 -->\n      <g transform=\"translate(22.151563 157.698438)scale(0.1 -0.1)\">\n       <defs>\n        <path id=\"DejaVuSans-30\" d=\"M 2034 4250 \nQ 1547 4250 1301 3770 \nQ 1056 3291 1056 2328 \nQ 1056 1369 1301 889 \nQ 1547 409 2034 409 \nQ 2525 409 2770 889 \nQ 3016 1369 3016 2328 \nQ 3016 3291 2770 3770 \nQ 2525 4250 2034 4250 \nz\nM 2034 4750 \nQ 2819 4750 3233 4129 \nQ 3647 3509 3647 2328 \nQ 3647 1150 3233 529 \nQ 2819 -91 2034 -91 \nQ 1250 -91 836 529 \nQ 422 1150 422 2328 \nQ 422 3509 836 4129 \nQ 1250 4750 2034 4750 \nz\n\" transform=\"scale(0.015625)\"/>\n        <path id=\"DejaVuSans-2e\" d=\"M 684 794 \nL 1344 794 \nL 1344 0 \nL 684 0 \nL 684 794 \nz\n\" transform=\"scale(0.015625)\"/>\n       </defs>\n       <use xlink:href=\"#DejaVuSans-30\"/>\n       <use xlink:href=\"#DejaVuSans-2e\" x=\"63.623047\"/>\n       <use xlink:href=\"#DejaVuSans-30\" x=\"95.410156\"/>\n      </g>\n     </g>\n    </g>\n    <g id=\"xtick_2\">\n     <g id=\"line2d_3\">\n      <path d=\"M 62.653125 143.1 \nL 62.653125 7.2 \n\" clip-path=\"url(#p1a480e7345)\" style=\"fill: none; stroke: #b0b0b0; stroke-width: 0.8; stroke-linecap: square\"/>\n     </g>\n     <g id=\"line2d_4\">\n      <g>\n       <use xlink:href=\"#mb91c18b85a\" x=\"62.653125\" y=\"143.1\" style=\"stroke: #000000; stroke-width: 0.8\"/>\n      </g>\n     </g>\n     <g id=\"text_2\">\n      <!-- 2.5 -->\n      <g transform=\"translate(54.701563 157.698438)scale(0.1 -0.1)\">\n       <defs>\n        <path id=\"DejaVuSans-32\" d=\"M 1228 531 \nL 3431 531 \nL 3431 0 \nL 469 0 \nL 469 531 \nQ 828 903 1448 1529 \nQ 2069 2156 2228 2338 \nQ 2531 2678 2651 2914 \nQ 2772 3150 2772 3378 \nQ 2772 3750 2511 3984 \nQ 2250 4219 1831 4219 \nQ 1534 4219 1204 4116 \nQ 875 4013 500 3803 \nL 500 4441 \nQ 881 4594 1212 4672 \nQ 1544 4750 1819 4750 \nQ 2544 4750 2975 4387 \nQ 3406 4025 3406 3419 \nQ 3406 3131 3298 2873 \nQ 3191 2616 2906 2266 \nQ 2828 2175 2409 1742 \nQ 1991 1309 1228 531 \nz\n\" transform=\"scale(0.015625)\"/>\n        <path id=\"DejaVuSans-35\" d=\"M 691 4666 \nL 3169 4666 \nL 3169 4134 \nL 1269 4134 \nL 1269 2991 \nQ 1406 3038 1543 3061 \nQ 1681 3084 1819 3084 \nQ 2600 3084 3056 2656 \nQ 3513 2228 3513 1497 \nQ 3513 744 3044 326 \nQ 2575 -91 1722 -91 \nQ 1428 -91 1123 -41 \nQ 819 9 494 109 \nL 494 744 \nQ 775 591 1075 516 \nQ 1375 441 1709 441 \nQ 2250 441 2565 725 \nQ 2881 1009 2881 1497 \nQ 2881 1984 2565 2268 \nQ 2250 2553 1709 2553 \nQ 1456 2553 1204 2497 \nQ 953 2441 691 2322 \nL 691 4666 \nz\n\" transform=\"scale(0.015625)\"/>\n       </defs>\n       <use xlink:href=\"#DejaVuSans-32\"/>\n       <use xlink:href=\"#DejaVuSans-2e\" x=\"63.623047\"/>\n       <use xlink:href=\"#DejaVuSans-35\" x=\"95.410156\"/>\n      </g>\n     </g>\n    </g>\n    <g id=\"xtick_3\">\n     <g id=\"line2d_5\">\n      <path d=\"M 95.203125 143.1 \nL 95.203125 7.2 \n\" clip-path=\"url(#p1a480e7345)\" style=\"fill: none; stroke: #b0b0b0; stroke-width: 0.8; stroke-linecap: square\"/>\n     </g>\n     <g id=\"line2d_6\">\n      <g>\n       <use xlink:href=\"#mb91c18b85a\" x=\"95.203125\" y=\"143.1\" style=\"stroke: #000000; stroke-width: 0.8\"/>\n      </g>\n     </g>\n     <g id=\"text_3\">\n      <!-- 5.0 -->\n      <g transform=\"translate(87.251563 157.698438)scale(0.1 -0.1)\">\n       <use xlink:href=\"#DejaVuSans-35\"/>\n       <use xlink:href=\"#DejaVuSans-2e\" x=\"63.623047\"/>\n       <use xlink:href=\"#DejaVuSans-30\" x=\"95.410156\"/>\n      </g>\n     </g>\n    </g>\n    <g id=\"xtick_4\">\n     <g id=\"line2d_7\">\n      <path d=\"M 127.753125 143.1 \nL 127.753125 7.2 \n\" clip-path=\"url(#p1a480e7345)\" style=\"fill: none; stroke: #b0b0b0; stroke-width: 0.8; stroke-linecap: square\"/>\n     </g>\n     <g id=\"line2d_8\">\n      <g>\n       <use xlink:href=\"#mb91c18b85a\" x=\"127.753125\" y=\"143.1\" style=\"stroke: #000000; stroke-width: 0.8\"/>\n      </g>\n     </g>\n     <g id=\"text_4\">\n      <!-- 7.5 -->\n      <g transform=\"translate(119.801563 157.698438)scale(0.1 -0.1)\">\n       <defs>\n        <path id=\"DejaVuSans-37\" d=\"M 525 4666 \nL 3525 4666 \nL 3525 4397 \nL 1831 0 \nL 1172 0 \nL 2766 4134 \nL 525 4134 \nL 525 4666 \nz\n\" transform=\"scale(0.015625)\"/>\n       </defs>\n       <use xlink:href=\"#DejaVuSans-37\"/>\n       <use xlink:href=\"#DejaVuSans-2e\" x=\"63.623047\"/>\n       <use xlink:href=\"#DejaVuSans-35\" x=\"95.410156\"/>\n      </g>\n     </g>\n    </g>\n    <g id=\"xtick_5\">\n     <g id=\"line2d_9\">\n      <path d=\"M 160.303125 143.1 \nL 160.303125 7.2 \n\" clip-path=\"url(#p1a480e7345)\" style=\"fill: none; stroke: #b0b0b0; stroke-width: 0.8; stroke-linecap: square\"/>\n     </g>\n     <g id=\"line2d_10\">\n      <g>\n       <use xlink:href=\"#mb91c18b85a\" x=\"160.303125\" y=\"143.1\" style=\"stroke: #000000; stroke-width: 0.8\"/>\n      </g>\n     </g>\n     <g id=\"text_5\">\n      <!-- 10.0 -->\n      <g transform=\"translate(149.170313 157.698438)scale(0.1 -0.1)\">\n       <defs>\n        <path id=\"DejaVuSans-31\" d=\"M 794 531 \nL 1825 531 \nL 1825 4091 \nL 703 3866 \nL 703 4441 \nL 1819 4666 \nL 2450 4666 \nL 2450 531 \nL 3481 531 \nL 3481 0 \nL 794 0 \nL 794 531 \nz\n\" transform=\"scale(0.015625)\"/>\n       </defs>\n       <use xlink:href=\"#DejaVuSans-31\"/>\n       <use xlink:href=\"#DejaVuSans-30\" x=\"63.623047\"/>\n       <use xlink:href=\"#DejaVuSans-2e\" x=\"127.246094\"/>\n       <use xlink:href=\"#DejaVuSans-30\" x=\"159.033203\"/>\n      </g>\n     </g>\n    </g>\n    <g id=\"xtick_6\">\n     <g id=\"line2d_11\">\n      <path d=\"M 192.853125 143.1 \nL 192.853125 7.2 \n\" clip-path=\"url(#p1a480e7345)\" style=\"fill: none; stroke: #b0b0b0; stroke-width: 0.8; stroke-linecap: square\"/>\n     </g>\n     <g id=\"line2d_12\">\n      <g>\n       <use xlink:href=\"#mb91c18b85a\" x=\"192.853125\" y=\"143.1\" style=\"stroke: #000000; stroke-width: 0.8\"/>\n      </g>\n     </g>\n     <g id=\"text_6\">\n      <!-- 12.5 -->\n      <g transform=\"translate(181.720313 157.698438)scale(0.1 -0.1)\">\n       <use xlink:href=\"#DejaVuSans-31\"/>\n       <use xlink:href=\"#DejaVuSans-32\" x=\"63.623047\"/>\n       <use xlink:href=\"#DejaVuSans-2e\" x=\"127.246094\"/>\n       <use xlink:href=\"#DejaVuSans-35\" x=\"159.033203\"/>\n      </g>\n     </g>\n    </g>\n    <g id=\"xtick_7\">\n     <g id=\"line2d_13\">\n      <path d=\"M 225.403125 143.1 \nL 225.403125 7.2 \n\" clip-path=\"url(#p1a480e7345)\" style=\"fill: none; stroke: #b0b0b0; stroke-width: 0.8; stroke-linecap: square\"/>\n     </g>\n     <g id=\"line2d_14\">\n      <g>\n       <use xlink:href=\"#mb91c18b85a\" x=\"225.403125\" y=\"143.1\" style=\"stroke: #000000; stroke-width: 0.8\"/>\n      </g>\n     </g>\n     <g id=\"text_7\">\n      <!-- 15.0 -->\n      <g transform=\"translate(214.270313 157.698438)scale(0.1 -0.1)\">\n       <use xlink:href=\"#DejaVuSans-31\"/>\n       <use xlink:href=\"#DejaVuSans-35\" x=\"63.623047\"/>\n       <use xlink:href=\"#DejaVuSans-2e\" x=\"127.246094\"/>\n       <use xlink:href=\"#DejaVuSans-30\" x=\"159.033203\"/>\n      </g>\n     </g>\n    </g>\n    <g id=\"text_8\">\n     <!-- epoch -->\n     <g transform=\"translate(112.525 171.376563)scale(0.1 -0.1)\">\n      <defs>\n       <path id=\"DejaVuSans-65\" d=\"M 3597 1894 \nL 3597 1613 \nL 953 1613 \nQ 991 1019 1311 708 \nQ 1631 397 2203 397 \nQ 2534 397 2845 478 \nQ 3156 559 3463 722 \nL 3463 178 \nQ 3153 47 2828 -22 \nQ 2503 -91 2169 -91 \nQ 1331 -91 842 396 \nQ 353 884 353 1716 \nQ 353 2575 817 3079 \nQ 1281 3584 2069 3584 \nQ 2775 3584 3186 3129 \nQ 3597 2675 3597 1894 \nz\nM 3022 2063 \nQ 3016 2534 2758 2815 \nQ 2500 3097 2075 3097 \nQ 1594 3097 1305 2825 \nQ 1016 2553 972 2059 \nL 3022 2063 \nz\n\" transform=\"scale(0.015625)\"/>\n       <path id=\"DejaVuSans-70\" d=\"M 1159 525 \nL 1159 -1331 \nL 581 -1331 \nL 581 3500 \nL 1159 3500 \nL 1159 2969 \nQ 1341 3281 1617 3432 \nQ 1894 3584 2278 3584 \nQ 2916 3584 3314 3078 \nQ 3713 2572 3713 1747 \nQ 3713 922 3314 415 \nQ 2916 -91 2278 -91 \nQ 1894 -91 1617 61 \nQ 1341 213 1159 525 \nz\nM 3116 1747 \nQ 3116 2381 2855 2742 \nQ 2594 3103 2138 3103 \nQ 1681 3103 1420 2742 \nQ 1159 2381 1159 1747 \nQ 1159 1113 1420 752 \nQ 1681 391 2138 391 \nQ 2594 391 2855 752 \nQ 3116 1113 3116 1747 \nz\n\" transform=\"scale(0.015625)\"/>\n       <path id=\"DejaVuSans-6f\" d=\"M 1959 3097 \nQ 1497 3097 1228 2736 \nQ 959 2375 959 1747 \nQ 959 1119 1226 758 \nQ 1494 397 1959 397 \nQ 2419 397 2687 759 \nQ 2956 1122 2956 1747 \nQ 2956 2369 2687 2733 \nQ 2419 3097 1959 3097 \nz\nM 1959 3584 \nQ 2709 3584 3137 3096 \nQ 3566 2609 3566 1747 \nQ 3566 888 3137 398 \nQ 2709 -91 1959 -91 \nQ 1206 -91 779 398 \nQ 353 888 353 1747 \nQ 353 2609 779 3096 \nQ 1206 3584 1959 3584 \nz\n\" transform=\"scale(0.015625)\"/>\n       <path id=\"DejaVuSans-63\" d=\"M 3122 3366 \nL 3122 2828 \nQ 2878 2963 2633 3030 \nQ 2388 3097 2138 3097 \nQ 1578 3097 1268 2742 \nQ 959 2388 959 1747 \nQ 959 1106 1268 751 \nQ 1578 397 2138 397 \nQ 2388 397 2633 464 \nQ 2878 531 3122 666 \nL 3122 134 \nQ 2881 22 2623 -34 \nQ 2366 -91 2075 -91 \nQ 1284 -91 818 406 \nQ 353 903 353 1747 \nQ 353 2603 823 3093 \nQ 1294 3584 2113 3584 \nQ 2378 3584 2631 3529 \nQ 2884 3475 3122 3366 \nz\n\" transform=\"scale(0.015625)\"/>\n       <path id=\"DejaVuSans-68\" d=\"M 3513 2113 \nL 3513 0 \nL 2938 0 \nL 2938 2094 \nQ 2938 2591 2744 2837 \nQ 2550 3084 2163 3084 \nQ 1697 3084 1428 2787 \nQ 1159 2491 1159 1978 \nL 1159 0 \nL 581 0 \nL 581 4863 \nL 1159 4863 \nL 1159 2956 \nQ 1366 3272 1645 3428 \nQ 1925 3584 2291 3584 \nQ 2894 3584 3203 3211 \nQ 3513 2838 3513 2113 \nz\n\" transform=\"scale(0.015625)\"/>\n      </defs>\n      <use xlink:href=\"#DejaVuSans-65\"/>\n      <use xlink:href=\"#DejaVuSans-70\" x=\"61.523438\"/>\n      <use xlink:href=\"#DejaVuSans-6f\" x=\"125\"/>\n      <use xlink:href=\"#DejaVuSans-63\" x=\"186.181641\"/>\n      <use xlink:href=\"#DejaVuSans-68\" x=\"241.162109\"/>\n     </g>\n    </g>\n   </g>\n   <g id=\"matplotlib.axis_2\">\n    <g id=\"ytick_1\">\n     <g id=\"line2d_15\">\n      <path d=\"M 30.103125 142.431484 \nL 225.403125 142.431484 \n\" clip-path=\"url(#p1a480e7345)\" style=\"fill: none; stroke: #b0b0b0; stroke-width: 0.8; stroke-linecap: square\"/>\n     </g>\n     <g id=\"line2d_16\">\n      <defs>\n       <path id=\"mf8b33ccb17\" d=\"M 0 0 \nL -3.5 0 \n\" style=\"stroke: #000000; stroke-width: 0.8\"/>\n      </defs>\n      <g>\n       <use xlink:href=\"#mf8b33ccb17\" x=\"30.103125\" y=\"142.431484\" style=\"stroke: #000000; stroke-width: 0.8\"/>\n      </g>\n     </g>\n     <g id=\"text_9\">\n      <!-- 0.0 -->\n      <g transform=\"translate(7.2 146.230703)scale(0.1 -0.1)\">\n       <use xlink:href=\"#DejaVuSans-30\"/>\n       <use xlink:href=\"#DejaVuSans-2e\" x=\"63.623047\"/>\n       <use xlink:href=\"#DejaVuSans-30\" x=\"95.410156\"/>\n      </g>\n     </g>\n    </g>\n    <g id=\"ytick_2\">\n     <g id=\"line2d_17\">\n      <path d=\"M 30.103125 114.670819 \nL 225.403125 114.670819 \n\" clip-path=\"url(#p1a480e7345)\" style=\"fill: none; stroke: #b0b0b0; stroke-width: 0.8; stroke-linecap: square\"/>\n     </g>\n     <g id=\"line2d_18\">\n      <g>\n       <use xlink:href=\"#mf8b33ccb17\" x=\"30.103125\" y=\"114.670819\" style=\"stroke: #000000; stroke-width: 0.8\"/>\n      </g>\n     </g>\n     <g id=\"text_10\">\n      <!-- 0.5 -->\n      <g transform=\"translate(7.2 118.470037)scale(0.1 -0.1)\">\n       <use xlink:href=\"#DejaVuSans-30\"/>\n       <use xlink:href=\"#DejaVuSans-2e\" x=\"63.623047\"/>\n       <use xlink:href=\"#DejaVuSans-35\" x=\"95.410156\"/>\n      </g>\n     </g>\n    </g>\n    <g id=\"ytick_3\">\n     <g id=\"line2d_19\">\n      <path d=\"M 30.103125 86.910153 \nL 225.403125 86.910153 \n\" clip-path=\"url(#p1a480e7345)\" style=\"fill: none; stroke: #b0b0b0; stroke-width: 0.8; stroke-linecap: square\"/>\n     </g>\n     <g id=\"line2d_20\">\n      <g>\n       <use xlink:href=\"#mf8b33ccb17\" x=\"30.103125\" y=\"86.910153\" style=\"stroke: #000000; stroke-width: 0.8\"/>\n      </g>\n     </g>\n     <g id=\"text_11\">\n      <!-- 1.0 -->\n      <g transform=\"translate(7.2 90.709372)scale(0.1 -0.1)\">\n       <use xlink:href=\"#DejaVuSans-31\"/>\n       <use xlink:href=\"#DejaVuSans-2e\" x=\"63.623047\"/>\n       <use xlink:href=\"#DejaVuSans-30\" x=\"95.410156\"/>\n      </g>\n     </g>\n    </g>\n    <g id=\"ytick_4\">\n     <g id=\"line2d_21\">\n      <path d=\"M 30.103125 59.149487 \nL 225.403125 59.149487 \n\" clip-path=\"url(#p1a480e7345)\" style=\"fill: none; stroke: #b0b0b0; stroke-width: 0.8; stroke-linecap: square\"/>\n     </g>\n     <g id=\"line2d_22\">\n      <g>\n       <use xlink:href=\"#mf8b33ccb17\" x=\"30.103125\" y=\"59.149487\" style=\"stroke: #000000; stroke-width: 0.8\"/>\n      </g>\n     </g>\n     <g id=\"text_12\">\n      <!-- 1.5 -->\n      <g transform=\"translate(7.2 62.948706)scale(0.1 -0.1)\">\n       <use xlink:href=\"#DejaVuSans-31\"/>\n       <use xlink:href=\"#DejaVuSans-2e\" x=\"63.623047\"/>\n       <use xlink:href=\"#DejaVuSans-35\" x=\"95.410156\"/>\n      </g>\n     </g>\n    </g>\n    <g id=\"ytick_5\">\n     <g id=\"line2d_23\">\n      <path d=\"M 30.103125 31.388822 \nL 225.403125 31.388822 \n\" clip-path=\"url(#p1a480e7345)\" style=\"fill: none; stroke: #b0b0b0; stroke-width: 0.8; stroke-linecap: square\"/>\n     </g>\n     <g id=\"line2d_24\">\n      <g>\n       <use xlink:href=\"#mf8b33ccb17\" x=\"30.103125\" y=\"31.388822\" style=\"stroke: #000000; stroke-width: 0.8\"/>\n      </g>\n     </g>\n     <g id=\"text_13\">\n      <!-- 2.0 -->\n      <g transform=\"translate(7.2 35.188041)scale(0.1 -0.1)\">\n       <use xlink:href=\"#DejaVuSans-32\"/>\n       <use xlink:href=\"#DejaVuSans-2e\" x=\"63.623047\"/>\n       <use xlink:href=\"#DejaVuSans-30\" x=\"95.410156\"/>\n      </g>\n     </g>\n    </g>\n   </g>\n   <g id=\"line2d_25\">\n    <path d=\"M 30.783274 13.377273 \nL 31.477304 13.992782 \nL 32.865364 14.820504 \nL 33.559394 15.844267 \nL 34.253424 18.050848 \nL 34.947453 21.79984 \nL 38.417603 43.799894 \nL 39.805662 50.395442 \nL 41.193722 55.704067 \nL 42.581782 60.156612 \nL 43.803274 97.076297 \nL 44.497304 97.144395 \nL 45.191334 96.935968 \nL 45.885364 97.453087 \nL 47.273424 97.889758 \nL 48.661483 97.841161 \nL 49.355513 98.053023 \nL 50.743573 98.113588 \nL 51.437603 98.404775 \nL 52.825662 98.596647 \nL 54.213722 98.830617 \nL 55.601782 99.022969 \nL 56.823274 101.564362 \nL 57.517304 102.540423 \nL 58.211334 102.499721 \nL 59.599394 102.238633 \nL 60.293424 102.3803 \nL 60.987453 102.303697 \nL 62.375513 102.432127 \nL 63.069543 102.641076 \nL 63.763573 102.721408 \nL 64.457603 102.607 \nL 68.621782 103.130362 \nL 69.843274 105.449316 \nL 70.537304 105.029312 \nL 71.231334 105.321814 \nL 71.925364 105.367749 \nL 72.619394 105.566554 \nL 73.313424 105.595977 \nL 74.701483 105.511498 \nL 75.395513 105.531596 \nL 76.783573 105.937617 \nL 80.253722 106.135717 \nL 81.641782 106.246976 \nL 82.863274 108.320156 \nL 83.557304 107.928145 \nL 84.945364 108.578501 \nL 86.333424 108.539015 \nL 87.027453 108.510067 \nL 87.721483 108.206642 \nL 90.497603 108.318805 \nL 91.191632 108.487443 \nL 93.273722 108.717159 \nL 94.661782 108.806709 \nL 95.883274 109.176499 \nL 97.271334 109.449692 \nL 97.965364 109.917824 \nL 99.353424 109.760036 \nL 100.047453 109.961363 \nL 100.741483 109.993294 \nL 101.435513 110.207337 \nL 104.211632 110.541756 \nL 105.599692 110.485688 \nL 106.987752 110.683868 \nL 107.681782 110.935992 \nL 108.903274 113.690376 \nL 109.597304 112.57564 \nL 110.291334 112.119019 \nL 110.985364 112.27889 \nL 113.067453 112.054024 \nL 115.149543 112.348191 \nL 115.843573 112.30939 \nL 116.537603 112.441286 \nL 118.619692 112.390325 \nL 120.007752 112.525306 \nL 120.701782 112.661401 \nL 121.923274 115.184357 \nL 123.311334 114.399713 \nL 124.005364 114.37739 \nL 124.699394 114.039663 \nL 125.393424 114.110414 \nL 126.087453 113.948355 \nL 127.475513 114.010046 \nL 128.863573 113.972838 \nL 129.557603 113.844385 \nL 131.639692 113.883321 \nL 133.721782 113.912601 \nL 134.943274 113.282624 \nL 135.637304 113.880206 \nL 137.719394 114.369354 \nL 140.495513 114.89222 \nL 142.577603 114.876784 \nL 146.741782 115.12886 \nL 147.963274 116.926049 \nL 148.657304 116.184489 \nL 149.351334 116.114094 \nL 150.045364 115.794718 \nL 150.739394 115.793955 \nL 151.433424 116.110155 \nL 152.127453 116.196704 \nL 154.903573 115.884202 \nL 159.761782 116.198497 \nL 160.983274 119.043805 \nL 162.371334 116.743305 \nL 163.065364 116.555634 \nL 163.759394 117.03855 \nL 164.453424 117.119788 \nL 165.147453 117.384363 \nL 172.087752 117.107806 \nL 172.781782 117.155529 \nL 174.003274 116.203295 \nL 174.697304 117.299118 \nL 176.085364 117.667919 \nL 176.779394 117.458004 \nL 178.167453 117.748194 \nL 178.861483 117.61756 \nL 180.249543 117.852979 \nL 180.943573 117.781775 \nL 182.331632 117.951326 \nL 183.719692 117.964096 \nL 184.413722 118.008171 \nL 185.801782 117.906616 \nL 187.023274 118.983264 \nL 187.717304 119.146502 \nL 188.411334 119.085014 \nL 189.105364 118.865334 \nL 191.881483 118.919253 \nL 192.575513 118.799324 \nL 194.657603 118.816466 \nL 196.045662 118.683501 \nL 198.821782 118.677509 \nL 200.737304 119.526835 \nL 201.431334 119.16626 \nL 202.125364 119.045252 \nL 202.819394 119.345026 \nL 203.513424 119.254939 \nL 206.983573 119.417271 \nL 207.677603 119.347221 \nL 208.371632 119.410725 \nL 209.759692 119.339525 \nL 211.841782 119.32348 \nL 213.063274 119.156017 \nL 213.757304 119.56189 \nL 214.451334 120.131753 \nL 215.145364 120.109081 \nL 215.839394 119.852231 \nL 216.533424 119.845108 \nL 217.227453 119.719387 \nL 218.615513 119.927876 \nL 219.309543 119.852963 \nL 220.697603 119.910197 \nL 224.861782 119.854528 \nL 224.861782 119.854528 \n\" clip-path=\"url(#p1a480e7345)\" style=\"fill: none; stroke: #1f77b4; stroke-width: 1.5; stroke-linecap: square\"/>\n   </g>\n   <g id=\"line2d_26\">\n    <path d=\"M 30.783274 136.914052 \nL 31.477304 136.922727 \nL 32.865364 136.007493 \nL 33.559394 135.418446 \nL 34.947453 132.31867 \nL 37.029543 126.760589 \nL 38.417603 123.739303 \nL 39.805662 121.25902 \nL 41.887752 118.33686 \nL 42.581782 117.552916 \nL 43.803274 104.035014 \nL 44.497304 103.818133 \nL 45.191334 103.930911 \nL 46.579394 103.576963 \nL 55.601782 102.998808 \nL 57.517304 101.36305 \nL 58.211334 101.415101 \nL 58.905364 101.740421 \nL 60.293424 101.666682 \nL 60.987453 101.767066 \nL 68.621782 101.267622 \nL 69.843274 100.322025 \nL 71.231334 100.24684 \nL 73.313424 100.136954 \nL 74.701483 100.118157 \nL 79.559692 99.942629 \nL 81.641782 99.907543 \nL 82.863274 98.933991 \nL 83.557304 99.107496 \nL 84.945364 98.955679 \nL 85.639394 99.034624 \nL 87.027453 99.000914 \nL 88.415513 99.130629 \nL 94.661782 98.920497 \nL 95.883274 98.639034 \nL 96.577304 98.873265 \nL 97.965364 98.578308 \nL 99.353424 98.717111 \nL 100.047453 98.59194 \nL 102.823573 98.476571 \nL 105.599692 98.401912 \nL 107.681782 98.24865 \nL 108.903274 97.441856 \nL 109.597304 97.658736 \nL 111.679394 97.795804 \nL 113.067453 97.726898 \nL 115.843573 97.716308 \nL 117.231632 97.722132 \nL 120.701782 97.642349 \nL 121.923274 96.730489 \nL 123.311334 97.042796 \nL 124.005364 97.008095 \nL 124.699394 97.233651 \nL 125.393424 97.219192 \nL 126.087453 97.322881 \nL 127.475513 97.181599 \nL 134.943274 97.389804 \nL 136.331334 97.152682 \nL 137.025364 96.990745 \nL 138.413424 97.013879 \nL 146.741782 96.764225 \nL 147.963274 96.209976 \nL 148.657304 96.487583 \nL 149.351334 96.296728 \nL 150.045364 96.253352 \nL 150.739394 96.324489 \nL 152.127453 96.222369 \nL 154.903573 96.356666 \nL 156.985662 96.343822 \nL 159.761782 96.314079 \nL 160.983274 95.498609 \nL 163.065364 96.192626 \nL 164.453424 95.990204 \nL 165.841483 95.902006 \nL 167.923573 95.94972 \nL 172.781782 95.97189 \nL 174.003274 96.296728 \nL 174.697304 95.915019 \nL 176.779394 95.817857 \nL 179.555513 95.75501 \nL 185.801782 95.719345 \nL 187.023274 95.203652 \nL 194.657603 95.384385 \nL 198.821782 95.457161 \nL 200.043274 95.012797 \nL 200.737304 94.891344 \nL 202.125364 95.251366 \nL 203.513424 95.166059 \nL 206.983573 95.143714 \nL 209.759692 95.211749 \nL 211.841782 95.194013 \nL 213.757304 95.160276 \nL 214.451334 94.914478 \nL 222.779692 95.045185 \nL 224.861782 95.009906 \nL 224.861782 95.009906 \n\" clip-path=\"url(#p1a480e7345)\" style=\"fill: none; stroke-dasharray: 5.55,2.4; stroke-dashoffset: 0; stroke: #bf00bf; stroke-width: 1.5\"/>\n   </g>\n   <g id=\"line2d_27\">\n    <path d=\"M 43.123125 105.965074 \nL 56.143125 102.817014 \nL 69.163125 101.623306 \nL 82.183125 100.218616 \nL 95.203125 99.202576 \nL 108.223125 98.519663 \nL 121.243125 98.997147 \nL 134.263125 97.664635 \nL 147.283125 97.836751 \nL 160.303125 96.965066 \nL 173.323125 96.742981 \nL 186.343125 96.370988 \nL 199.363125 96.370988 \nL 212.383125 96.654147 \nL 225.403125 95.72694 \n\" clip-path=\"url(#p1a480e7345)\" style=\"fill: none; stroke-dasharray: 9.6,2.4,1.5,2.4; stroke-dashoffset: 0; stroke: #008000; stroke-width: 1.5\"/>\n   </g>\n   <g id=\"patch_3\">\n    <path d=\"M 30.103125 143.1 \nL 30.103125 7.2 \n\" style=\"fill: none; stroke: #000000; stroke-width: 0.8; stroke-linejoin: miter; stroke-linecap: square\"/>\n   </g>\n   <g id=\"patch_4\">\n    <path d=\"M 225.403125 143.1 \nL 225.403125 7.2 \n\" style=\"fill: none; stroke: #000000; stroke-width: 0.8; stroke-linejoin: miter; stroke-linecap: square\"/>\n   </g>\n   <g id=\"patch_5\">\n    <path d=\"M 30.103125 143.1 \nL 225.403125 143.1 \n\" style=\"fill: none; stroke: #000000; stroke-width: 0.8; stroke-linejoin: miter; stroke-linecap: square\"/>\n   </g>\n   <g id=\"patch_6\">\n    <path d=\"M 30.103125 7.2 \nL 225.403125 7.2 \n\" style=\"fill: none; stroke: #000000; stroke-width: 0.8; stroke-linejoin: miter; stroke-linecap: square\"/>\n   </g>\n   <g id=\"legend_1\">\n    <g id=\"patch_7\">\n     <path d=\"M 140.634375 59.234375 \nL 218.403125 59.234375 \nQ 220.403125 59.234375 220.403125 57.234375 \nL 220.403125 14.2 \nQ 220.403125 12.2 218.403125 12.2 \nL 140.634375 12.2 \nQ 138.634375 12.2 138.634375 14.2 \nL 138.634375 57.234375 \nQ 138.634375 59.234375 140.634375 59.234375 \nz\n\" style=\"fill: #ffffff; opacity: 0.8; stroke: #cccccc; stroke-linejoin: miter\"/>\n    </g>\n    <g id=\"line2d_28\">\n     <path d=\"M 142.634375 20.298438 \nL 152.634375 20.298438 \nL 162.634375 20.298438 \n\" style=\"fill: none; stroke: #1f77b4; stroke-width: 1.5; stroke-linecap: square\"/>\n    </g>\n    <g id=\"text_14\">\n     <!-- train loss -->\n     <g transform=\"translate(170.634375 23.798438)scale(0.1 -0.1)\">\n      <defs>\n       <path id=\"DejaVuSans-74\" d=\"M 1172 4494 \nL 1172 3500 \nL 2356 3500 \nL 2356 3053 \nL 1172 3053 \nL 1172 1153 \nQ 1172 725 1289 603 \nQ 1406 481 1766 481 \nL 2356 481 \nL 2356 0 \nL 1766 0 \nQ 1100 0 847 248 \nQ 594 497 594 1153 \nL 594 3053 \nL 172 3053 \nL 172 3500 \nL 594 3500 \nL 594 4494 \nL 1172 4494 \nz\n\" transform=\"scale(0.015625)\"/>\n       <path id=\"DejaVuSans-72\" d=\"M 2631 2963 \nQ 2534 3019 2420 3045 \nQ 2306 3072 2169 3072 \nQ 1681 3072 1420 2755 \nQ 1159 2438 1159 1844 \nL 1159 0 \nL 581 0 \nL 581 3500 \nL 1159 3500 \nL 1159 2956 \nQ 1341 3275 1631 3429 \nQ 1922 3584 2338 3584 \nQ 2397 3584 2469 3576 \nQ 2541 3569 2628 3553 \nL 2631 2963 \nz\n\" transform=\"scale(0.015625)\"/>\n       <path id=\"DejaVuSans-61\" d=\"M 2194 1759 \nQ 1497 1759 1228 1600 \nQ 959 1441 959 1056 \nQ 959 750 1161 570 \nQ 1363 391 1709 391 \nQ 2188 391 2477 730 \nQ 2766 1069 2766 1631 \nL 2766 1759 \nL 2194 1759 \nz\nM 3341 1997 \nL 3341 0 \nL 2766 0 \nL 2766 531 \nQ 2569 213 2275 61 \nQ 1981 -91 1556 -91 \nQ 1019 -91 701 211 \nQ 384 513 384 1019 \nQ 384 1609 779 1909 \nQ 1175 2209 1959 2209 \nL 2766 2209 \nL 2766 2266 \nQ 2766 2663 2505 2880 \nQ 2244 3097 1772 3097 \nQ 1472 3097 1187 3025 \nQ 903 2953 641 2809 \nL 641 3341 \nQ 956 3463 1253 3523 \nQ 1550 3584 1831 3584 \nQ 2591 3584 2966 3190 \nQ 3341 2797 3341 1997 \nz\n\" transform=\"scale(0.015625)\"/>\n       <path id=\"DejaVuSans-69\" d=\"M 603 3500 \nL 1178 3500 \nL 1178 0 \nL 603 0 \nL 603 3500 \nz\nM 603 4863 \nL 1178 4863 \nL 1178 4134 \nL 603 4134 \nL 603 4863 \nz\n\" transform=\"scale(0.015625)\"/>\n       <path id=\"DejaVuSans-6e\" d=\"M 3513 2113 \nL 3513 0 \nL 2938 0 \nL 2938 2094 \nQ 2938 2591 2744 2837 \nQ 2550 3084 2163 3084 \nQ 1697 3084 1428 2787 \nQ 1159 2491 1159 1978 \nL 1159 0 \nL 581 0 \nL 581 3500 \nL 1159 3500 \nL 1159 2956 \nQ 1366 3272 1645 3428 \nQ 1925 3584 2291 3584 \nQ 2894 3584 3203 3211 \nQ 3513 2838 3513 2113 \nz\n\" transform=\"scale(0.015625)\"/>\n       <path id=\"DejaVuSans-20\" transform=\"scale(0.015625)\"/>\n       <path id=\"DejaVuSans-6c\" d=\"M 603 4863 \nL 1178 4863 \nL 1178 0 \nL 603 0 \nL 603 4863 \nz\n\" transform=\"scale(0.015625)\"/>\n       <path id=\"DejaVuSans-73\" d=\"M 2834 3397 \nL 2834 2853 \nQ 2591 2978 2328 3040 \nQ 2066 3103 1784 3103 \nQ 1356 3103 1142 2972 \nQ 928 2841 928 2578 \nQ 928 2378 1081 2264 \nQ 1234 2150 1697 2047 \nL 1894 2003 \nQ 2506 1872 2764 1633 \nQ 3022 1394 3022 966 \nQ 3022 478 2636 193 \nQ 2250 -91 1575 -91 \nQ 1294 -91 989 -36 \nQ 684 19 347 128 \nL 347 722 \nQ 666 556 975 473 \nQ 1284 391 1588 391 \nQ 1994 391 2212 530 \nQ 2431 669 2431 922 \nQ 2431 1156 2273 1281 \nQ 2116 1406 1581 1522 \nL 1381 1569 \nQ 847 1681 609 1914 \nQ 372 2147 372 2553 \nQ 372 3047 722 3315 \nQ 1072 3584 1716 3584 \nQ 2034 3584 2315 3537 \nQ 2597 3491 2834 3397 \nz\n\" transform=\"scale(0.015625)\"/>\n      </defs>\n      <use xlink:href=\"#DejaVuSans-74\"/>\n      <use xlink:href=\"#DejaVuSans-72\" x=\"39.208984\"/>\n      <use xlink:href=\"#DejaVuSans-61\" x=\"80.322266\"/>\n      <use xlink:href=\"#DejaVuSans-69\" x=\"141.601562\"/>\n      <use xlink:href=\"#DejaVuSans-6e\" x=\"169.384766\"/>\n      <use xlink:href=\"#DejaVuSans-20\" x=\"232.763672\"/>\n      <use xlink:href=\"#DejaVuSans-6c\" x=\"264.550781\"/>\n      <use xlink:href=\"#DejaVuSans-6f\" x=\"292.333984\"/>\n      <use xlink:href=\"#DejaVuSans-73\" x=\"353.515625\"/>\n      <use xlink:href=\"#DejaVuSans-73\" x=\"405.615234\"/>\n     </g>\n    </g>\n    <g id=\"line2d_29\">\n     <path d=\"M 142.634375 34.976562 \nL 152.634375 34.976562 \nL 162.634375 34.976562 \n\" style=\"fill: none; stroke-dasharray: 5.55,2.4; stroke-dashoffset: 0; stroke: #bf00bf; stroke-width: 1.5\"/>\n    </g>\n    <g id=\"text_15\">\n     <!-- train acc -->\n     <g transform=\"translate(170.634375 38.476562)scale(0.1 -0.1)\">\n      <use xlink:href=\"#DejaVuSans-74\"/>\n      <use xlink:href=\"#DejaVuSans-72\" x=\"39.208984\"/>\n      <use xlink:href=\"#DejaVuSans-61\" x=\"80.322266\"/>\n      <use xlink:href=\"#DejaVuSans-69\" x=\"141.601562\"/>\n      <use xlink:href=\"#DejaVuSans-6e\" x=\"169.384766\"/>\n      <use xlink:href=\"#DejaVuSans-20\" x=\"232.763672\"/>\n      <use xlink:href=\"#DejaVuSans-61\" x=\"264.550781\"/>\n      <use xlink:href=\"#DejaVuSans-63\" x=\"325.830078\"/>\n      <use xlink:href=\"#DejaVuSans-63\" x=\"380.810547\"/>\n     </g>\n    </g>\n    <g id=\"line2d_30\">\n     <path d=\"M 142.634375 49.654688 \nL 152.634375 49.654688 \nL 162.634375 49.654688 \n\" style=\"fill: none; stroke-dasharray: 9.6,2.4,1.5,2.4; stroke-dashoffset: 0; stroke: #008000; stroke-width: 1.5\"/>\n    </g>\n    <g id=\"text_16\">\n     <!-- test acc -->\n     <g transform=\"translate(170.634375 53.154688)scale(0.1 -0.1)\">\n      <use xlink:href=\"#DejaVuSans-74\"/>\n      <use xlink:href=\"#DejaVuSans-65\" x=\"39.208984\"/>\n      <use xlink:href=\"#DejaVuSans-73\" x=\"100.732422\"/>\n      <use xlink:href=\"#DejaVuSans-74\" x=\"152.832031\"/>\n      <use xlink:href=\"#DejaVuSans-20\" x=\"192.041016\"/>\n      <use xlink:href=\"#DejaVuSans-61\" x=\"223.828125\"/>\n      <use xlink:href=\"#DejaVuSans-63\" x=\"285.107422\"/>\n      <use xlink:href=\"#DejaVuSans-63\" x=\"340.087891\"/>\n     </g>\n    </g>\n   </g>\n  </g>\n </g>\n <defs>\n  <clipPath id=\"p1a480e7345\">\n   <rect x=\"30.103125\" y=\"7.2\" width=\"195.3\" height=\"135.9\"/>\n  </clipPath>\n </defs>\n</svg>\n",
      "text/plain": [
       "<Figure size 252x180 with 1 Axes>"
      ]
     },
     "metadata": {
      "needs_background": "light"
     },
     "output_type": "display_data"
    }
   ],
   "source": [
    "# Train the network\n",
    "# This is the number of epochs we will train the network for\n",
    "num_epochs = 15\n",
    "initialtime = time.perf_counter() #This is to keep track of the time it takes to train the network\n",
    "mu.train_ch6(netWcuda, train_dataset, test_dataset,num_epochs , 0.1) #This is to train the network\n",
    "posttime = time.perf_counter() \n",
    "print('Time taken: {}'.format(posttime - initialtime)) #This is to print the time it took to train the network\n",
    "mu.evaluate_accuracy_gpu(netWcuda, test_dataset) # This is to evaluate the accuracy of the network"
   ]
  },
  {
   "cell_type": "code",
   "execution_count": null,
   "metadata": {},
   "outputs": [],
   "source": [
    "# test with high learning rate\n",
    "num_epochs = 40  \n",
    "initialtime = time.perf_counter()\n",
    "mu.train_ch6(netWcuda, train_dataset, test_dataset,num_epochs , 0.9)\n",
    "posttime = time.perf_counter()\n",
    "print(f'Time taken: {posttime - initialtime}'.format())\n",
    "mu.evaluate_accuracy_gpu(netWcuda, test_dataset)"
   ]
  },
  {
   "cell_type": "code",
   "execution_count": null,
   "metadata": {},
   "outputs": [],
   "source": [
    "#CPU version\n",
    "num_epochs = 15\n",
    "initialtime = time.perf_counter()\n",
    "mu.train_ch3(net, train_dataset, test_dataset, loss ,num_epochs , optimizer)\n",
    "posttime = time.perf_counter()\n",
    "print('Time taken: {}'.format(posttime - initialtime))\n",
    "mu.evaluate_accuracy(net, test_dataset)"
   ]
  },
  {
   "cell_type": "code",
   "execution_count": null,
   "metadata": {},
   "outputs": [],
   "source": []
  }
 ],
 "metadata": {
  "kernelspec": {
   "display_name": "Python 3.10.6 64-bit",
   "language": "python",
   "name": "python3"
  },
  "language_info": {
   "codemirror_mode": {
    "name": "ipython",
    "version": 3
   },
   "file_extension": ".py",
   "mimetype": "text/x-python",
   "name": "python",
   "nbconvert_exporter": "python",
   "pygments_lexer": "ipython3",
   "version": "3.10.6"
  },
  "vscode": {
   "interpreter": {
    "hash": "e276a94ab97a9efae7bdcfa9e1dc61b2f6097e65aabcec1a6ce84efca64eb96b"
   }
  }
 },
 "nbformat": 4,
 "nbformat_minor": 2
}
